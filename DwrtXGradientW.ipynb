{
  "nbformat": 4,
  "nbformat_minor": 0,
  "metadata": {
    "colab": {
      "provenance": [],
      "authorship_tag": "ABX9TyM9mNaCKL/nKizdRoJP7w3c",
      "include_colab_link": true
    },
    "kernelspec": {
      "name": "python3",
      "display_name": "Python 3"
    },
    "language_info": {
      "name": "python"
    }
  },
  "cells": [
    {
      "cell_type": "markdown",
      "metadata": {
        "id": "view-in-github",
        "colab_type": "text"
      },
      "source": [
        "<a href=\"https://colab.research.google.com/github/zw2788/LocalMinimaConstruction/blob/main/DwrtXGradientW.ipynb\" target=\"_parent\"><img src=\"https://colab.research.google.com/assets/colab-badge.svg\" alt=\"Open In Colab\"/></a>"
      ]
    },
    {
      "cell_type": "code",
      "source": [
        "from typing import Tuple\n",
        "\n",
        "import numpy as np\n",
        "import pandas as pd\n",
        "\n",
        "from sklearn.metrics import roc_auc_score\n",
        "from sklearn.model_selection import train_test_split\n",
        "from sklearn.preprocessing import StandardScaler\n",
        "from IPython.display import Image"
      ],
      "metadata": {
        "id": "6IhL4Cbb1mfH"
      },
      "execution_count": 1,
      "outputs": []
    },
    {
      "cell_type": "code",
      "source": [
        "# parameters for the first layer\n",
        "W_0 = np.array([[1.05954587,-0.03749863],[-0.05625762,1.09518945]])\n",
        "b = np.array([[-0.050686],[-0.06894291]])\n",
        "\n",
        "# parameters for the second layer\n",
        "\n",
        "V_0 = np.array([[3.76921058,-3.72139955]])\n",
        "c = np.array([[-0.0148436]])"
      ],
      "metadata": {
        "id": "vBoW060Y1pZB"
      },
      "execution_count": 2,
      "outputs": []
    },
    {
      "cell_type": "code",
      "source": [
        "def forward_prop(\n",
        "    X_raw: np.array,\n",
        "    W_0: np.array,\n",
        "    b: np.array,\n",
        "    V_0: np.array,\n",
        "    c: np.array,\n",
        ") -> Tuple:\n",
        "    \"\"\"Performs the forward propagation of the given NN.\"\"\"\n",
        "    # Note the NN structure is passed in from outside.\n",
        "    Z_1 = X_raw @ W_0.T\n",
        "    A_1 = sigmoid(Z_1 + b.T)\n",
        "\n",
        "    Z_2 = A_1 @ V_0.T\n",
        "    A_2 = Y = sigmoid(Z_2 + c.T)\n",
        "\n",
        "    return A_2, Z_2, A_1, Z_1"
      ],
      "metadata": {
        "id": "bJ0z4fS_1p0H"
      },
      "execution_count": 3,
      "outputs": []
    },
    {
      "cell_type": "code",
      "execution_count": null,
      "metadata": {
        "id": "s_654-o11XCY"
      },
      "outputs": [],
      "source": [
        "def gradient_magnitude(weights):\n",
        "    # Compute the gradient of the loss with respect to the weights\n",
        "    # Return the magnitude of this gradient\n",
        "    pass\n",
        "\n",
        "def sample_points_around(center, radius, num_samples):\n",
        "    # Generate points in the vicinity of 'center' within a 'radius'\n",
        "    # Return these points\n",
        "    pass\n",
        "\n",
        "def average_gradient_magnitude(center, radius, num_samples):\n",
        "    sampled_points = sample_points_around(center, radius, num_samples)\n",
        "    magnitudes = [gradient_magnitude(point) for point in sampled_points]\n",
        "    return sum(magnitudes) / len(magnitudes)\n",
        "\n",
        "# Optimization loop\n",
        "for iteration in range(max_iterations):\n",
        "    # Adjust your input data or parameters to minimize the average gradient magnitude\n",
        "    # This could involve computing the derivative of this average with respect to your inputs\n",
        "    pass\n"
      ]
    }
  ]
}