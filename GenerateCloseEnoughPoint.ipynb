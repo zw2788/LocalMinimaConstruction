{
  "nbformat": 4,
  "nbformat_minor": 0,
  "metadata": {
    "colab": {
      "provenance": [],
      "authorship_tag": "ABX9TyO+hi2FKbVwRBxpYb2n2b/W",
      "include_colab_link": true
    },
    "kernelspec": {
      "name": "python3",
      "display_name": "Python 3"
    },
    "language_info": {
      "name": "python"
    }
  },
  "cells": [
    {
      "cell_type": "markdown",
      "metadata": {
        "id": "view-in-github",
        "colab_type": "text"
      },
      "source": [
        "<a href=\"https://colab.research.google.com/github/zw2788/LocalMinimaConstruction/blob/main/GenerateCloseEnoughPoint.ipynb\" target=\"_parent\"><img src=\"https://colab.research.google.com/assets/colab-badge.svg\" alt=\"Open In Colab\"/></a>"
      ]
    },
    {
      "cell_type": "code",
      "execution_count": 1,
      "metadata": {
        "id": "j3uuvPWyq8id"
      },
      "outputs": [],
      "source": [
        "import torch\n",
        "import torch.nn as nn\n",
        "import torch.optim as optim\n",
        "\n"
      ]
    },
    {
      "cell_type": "code",
      "source": [
        "# Define the neural network\n",
        "class SimpleNN(nn.Module):\n",
        "    def __init__(self):\n",
        "        super(SimpleNN, self).__init__()\n",
        "        self.hidden = nn.Linear(2, 2)\n",
        "        self.output = nn.Linear(2, 1)\n",
        "        self.sigmoid = nn.Sigmoid()\n",
        "\n",
        "    def forward(self, x):\n",
        "        x = self.sigmoid(self.hidden(x))\n",
        "        x = self.sigmoid(self.output(x))\n",
        "        return x\n",
        "\n",
        "\n",
        "# Custom loss function\n",
        "def custom_loss(output, target):\n",
        "    return -torch.mean(target * torch.log(output) + (1 - target) * torch.log(1 - output))\n"
      ],
      "metadata": {
        "id": "5U9XkAe5rD8y"
      },
      "execution_count": 5,
      "outputs": []
    },
    {
      "cell_type": "code",
      "source": [
        "# Instantiate the network\n",
        "model = SimpleNN()\n",
        "# Optimizer (using simple Gradient Descent)\n",
        "optimizer = optim.SGD(model.parameters(), lr=0.02)\n",
        "\n",
        "# Dummy input and output data\n",
        "input_data = torch.randn(10, 2)\n",
        "print(input_data)\n",
        "output_data = torch.randn(10, 1)\n",
        "output_data = (output_data > 0.5).float()\n",
        "# Training loop\n",
        "max_num_epoch = 1000\n",
        "prev_loss = None\n",
        "for epoch in range(num_epoch):\n",
        "    optimizer.zero_grad()   # clear the gradients\n",
        "    outputs = model(input_data)  # forward pass\n",
        "    loss = custom_loss(outputs, output_data)  # calculate the loss\n",
        "    loss.backward()  # backward pass (compute gradients)\n",
        "    optimizer.step()  # update weights\n",
        "\n",
        "    if (epoch+1) % 10 == 0:\n",
        "        print(f'Epoch [{epoch+1}/100], Loss: {loss.item():.6f}')\n",
        "        # Check for early stopping condition\n",
        "    if prev_loss is not None:\n",
        "        loss_diff = abs(prev_loss - loss.item())\n",
        "        if loss_diff < 0.001:\n",
        "            print(f'Early stopping at epoch {epoch+1}, Loss: {loss.item():.6f}')\n",
        "            break\n",
        "\n",
        "    prev_loss = loss.item()\n",
        "\n",
        "# Track weights and biases\n",
        "weights_hidden = model.hidden.weight.data.numpy()\n",
        "bias_hidden = model.hidden.bias.data.numpy()\n",
        "\n",
        "weights_output = model.output.weight.data.numpy()\n",
        "bias_output = model.output.bias.data.numpy()\n",
        "\n",
        "print(\"Weights of hidden layer:\", weights_hidden)\n",
        "print(\"Bias of hidden layer:\", bias_hidden)\n",
        "print(\"Weights of output layer:\", weights_output)\n",
        "print(\"Bias of output layer:\", bias_output)\n"
      ],
      "metadata": {
        "colab": {
          "base_uri": "https://localhost:8080/"
        },
        "id": "nnJvvA13rGJf",
        "outputId": "40fd89c2-784f-4a41-b402-24bd27fa7779"
      },
      "execution_count": 27,
      "outputs": [
        {
          "output_type": "stream",
          "name": "stdout",
          "text": [
            "tensor([[-0.6284, -0.5485],\n",
            "        [ 2.6350,  0.6726],\n",
            "        [ 0.0358,  0.0313],\n",
            "        [ 1.5770,  0.0666],\n",
            "        [-1.0888,  0.0275],\n",
            "        [-1.3845, -0.4961],\n",
            "        [ 0.1206, -0.7785],\n",
            "        [-0.0995, -0.9148],\n",
            "        [-1.4570,  1.5866],\n",
            "        [-0.7633,  1.1115]])\n",
            "Early stopping at epoch 2, Loss: 0.726167\n",
            "Weights of hidden layer: [[ 0.5649124  -0.48744056]\n",
            " [ 0.18597345  0.00891411]]\n",
            "Bias of hidden layer: [ 0.6254853  -0.45749435]\n",
            "Weights of output layer: [[-0.54787415  0.43374756]]\n",
            "Bias of output layer: [-0.32725546]\n"
          ]
        }
      ]
    }
  ]
}